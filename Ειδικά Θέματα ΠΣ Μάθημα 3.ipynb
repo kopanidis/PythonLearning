{
 "cells": [
  {
   "cell_type": "markdown",
   "metadata": {},
   "source": [
    "# Booleans and If Statements"
   ]
  },
  {
   "cell_type": "markdown",
   "metadata": {},
   "source": [
    "In this mission, we'll learn how to express conditional logic. We can use conditional logic to add criteria to the code we write. We load the data from previous lesson:"
   ]
  },
  {
   "cell_type": "code",
   "execution_count": 3,
   "metadata": {},
   "outputs": [],
   "source": [
    "f=open(\"C:\\\\Users\\\\kopas\\\\Desktop\\\\instacart_example.csv\",\"r\")\n",
    "data=f.read()\n",
    "rows = data.split('\\n')\n",
    "final_data = []\n",
    "for row in rows:\n",
    "    if row.strip():  # line isn't empty\n",
    "       split_list = row.split(',')\n",
    "       final_data.append(split_list)"
   ]
  },
  {
   "cell_type": "markdown",
   "metadata": {},
   "source": [
    "### Booleans"
   ]
  },
  {
   "cell_type": "markdown",
   "metadata": {},
   "source": [
    "Python has a class called Boolean that helps express conditional logic. There are only two Boolean values: True and False. Let's see an example:"
   ]
  },
  {
   "cell_type": "code",
   "execution_count": 1,
   "metadata": {
    "collapsed": true
   },
   "outputs": [
    {
     "name": "stdout",
     "output_type": "stream",
     "text": [
      "<class 'bool'>\n",
      "<class 'bool'>\n"
     ]
    }
   ],
   "source": [
    "cat = True\n",
    "dog = False\n",
    "print(type(cat))\n",
    "print(type(dog))"
   ]
  },
  {
   "cell_type": "markdown",
   "metadata": {},
   "source": [
    "### Boolean Operators"
   ]
  },
  {
   "cell_type": "markdown",
   "metadata": {},
   "source": [
    "Python has comparison operators that allow us to compare variables:\n",
    "\n",
    "* \"==\" returns True if both variables are equivalent, and False if they're different\n",
    "* \"!=\" returns True if both variables are different, and False if they're equivalent\n",
    "* \">\" returns True if the first variable is greater than the second variable, and False otherwise\n",
    "* \"<\" returns True if the first variable is less than the second variable, and False otherwise\n",
    "* \">=\" returns True if the first variable is greater than or equal to the second variable, and False otherwise\n",
    "* \"<=\" returns True if the first variable is less than or equal to the second variable, and False otherwise\n",
    "\n",
    "To compare two variables, place the operator between them. We can assign the result of a comparison to a Boolean variable. We can also compare strings, floats, Booleans, and even lists"
   ]
  },
  {
   "cell_type": "code",
   "execution_count": 5,
   "metadata": {
    "collapsed": true
   },
   "outputs": [
    {
     "name": "stdout",
     "output_type": "stream",
     "text": [
      "True\n"
     ]
    }
   ],
   "source": [
    "first_prod = (final_data[0][0] == \"Banana\")\n",
    "print(first_prod)"
   ]
  },
  {
   "cell_type": "markdown",
   "metadata": {},
   "source": [
    "### Booleans with \"Greater Than\" / \"Less Than\""
   ]
  },
  {
   "cell_type": "markdown",
   "metadata": {},
   "source": [
    "We can use the greater than operator (>) to test whether one value is larger than another and we can use the less than operator (<) to test whether one value is smaller than another value."
   ]
  },
  {
   "cell_type": "code",
   "execution_count": 33,
   "metadata": {
    "collapsed": true
   },
   "outputs": [
    {
     "name": "stdout",
     "output_type": "stream",
     "text": [
      "True\n",
      "False\n"
     ]
    }
   ],
   "source": [
    "x = 749\n",
    "y = 640\n",
    "first_value = (x > 500)\n",
    "second_value = (y < 500)\n",
    "print(first_value)\n",
    "print(second_value)"
   ]
  },
  {
   "cell_type": "markdown",
   "metadata": {},
   "source": [
    "### If Statements"
   ]
  },
  {
   "cell_type": "markdown",
   "metadata": {},
   "source": [
    "Let's now talk about how we complement Booleans. Python contains the if operator and we can use this operator to write a statement that tests whether certain conditions exist. Our if statement will evaluate to either True or False, and only run the specified code when it is True.\n",
    "\n",
    "How we format if statements?\n",
    "* End the conditional statement with a colon (:)\n",
    "* Indent the code (that we want run when True) below the conditional statement"
   ]
  },
  {
   "cell_type": "code",
   "execution_count": 1,
   "metadata": {
    "collapsed": true
   },
   "outputs": [
    {
     "name": "stdout",
     "output_type": "stream",
     "text": [
      "400\n"
     ]
    }
   ],
   "source": [
    "x= 400\n",
    "if x < 500:\n",
    "    print(x)"
   ]
  },
  {
   "cell_type": "markdown",
   "metadata": {},
   "source": [
    "### Nesting If Statements"
   ]
  },
  {
   "cell_type": "markdown",
   "metadata": {},
   "source": [
    "What is a nested if statement?\n",
    "\n",
    "We can nest if statements to specify multiple criteria. Let's see an example to understand how we use them."
   ]
  },
  {
   "cell_type": "code",
   "execution_count": 2,
   "metadata": {
    "collapsed": true
   },
   "outputs": [
    {
     "name": "stdout",
     "output_type": "stream",
     "text": [
      "This number is HUGE!\n"
     ]
    }
   ],
   "source": [
    "x = 1500\n",
    "\n",
    "if x > 500:\n",
    "    if x > 1000:\n",
    "        print(\"This number is HUGE!\")"
   ]
  },
  {
   "cell_type": "markdown",
   "metadata": {},
   "source": [
    "### If Statements and For Loops"
   ]
  },
  {
   "cell_type": "markdown",
   "metadata": {},
   "source": [
    "We can also nest if statements within for loops and the opposite. Let's try to understand the following example."
   ]
  },
  {
   "cell_type": "code",
   "execution_count": 2,
   "metadata": {
    "collapsed": true
   },
   "outputs": [
    {
     "name": "stdout",
     "output_type": "stream",
     "text": [
      "True\n"
     ]
    }
   ],
   "source": [
    "cities = [\"Aurora\",\"El Paso\",\"Washington\"]\n",
    "found = False\n",
    "for city in cities:\n",
    "    if city == 'Washington':\n",
    "        found = True\n",
    "        print(found)"
   ]
  },
  {
   "cell_type": "markdown",
   "metadata": {},
   "source": [
    "* The value found set to False by default.\n",
    "* If one of the elements in cities is equivalent to the string \"Washington\", then Python assigns the Boolean value True to found.\n",
    "\n",
    "Let's now see an opposite example."
   ]
  },
  {
   "cell_type": "code",
   "execution_count": 3,
   "metadata": {
    "collapsed": true
   },
   "outputs": [
    {
     "name": "stdout",
     "output_type": "stream",
     "text": [
      "2\n"
     ]
    }
   ],
   "source": [
    "counter = 0\n",
    "index = 0\n",
    "\n",
    "for city in cities:\n",
    "    if city == \"Washington\":\n",
    "        index = counter\n",
    "    counter += 1\n",
    "\n",
    "print(index)"
   ]
  },
  {
   "cell_type": "markdown",
   "metadata": {},
   "source": [
    "* We create an integer variable named <b>counter</b> outside the for loop and increment it by 1 with each iteration.\n",
    "* If the value at the current iteration of the loop matches our desired value, we can set another integer variable, <b>index</b>, to the current value of <b>counter</b>.\n",
    "\n",
    "What will be the value of <b>index</b>, if there are multiple instances of the desired value (\"Washington\") in the list? \n",
    "\n",
    "Answer: The variable index will update each time. This means that once the for loop finishes, index will contain the last index location the loop finds (not the first one).\n"
   ]
  }
 ],
 "metadata": {
  "kernelspec": {
   "display_name": "Python 3",
   "language": "python",
   "name": "python3"
  },
  "language_info": {
   "codemirror_mode": {
    "name": "ipython",
    "version": 3
   },
   "file_extension": ".py",
   "mimetype": "text/x-python",
   "name": "python",
   "nbconvert_exporter": "python",
   "pygments_lexer": "ipython3",
   "version": "3.6.4"
  }
 },
 "nbformat": 4,
 "nbformat_minor": 2
}
