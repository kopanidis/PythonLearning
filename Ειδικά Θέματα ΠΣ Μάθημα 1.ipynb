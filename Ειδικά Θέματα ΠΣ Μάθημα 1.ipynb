{
 "cells": [
  {
   "cell_type": "markdown",
   "metadata": {},
   "source": [
    "# Python Basics"
   ]
  },
  {
   "cell_type": "markdown",
   "metadata": {},
   "source": [
    "Python is an interpreted high-level programming language for general-purpose programming. It is a popular choice for working with data because it has good support for:\n",
    "* handling large datasets\n",
    "* working with common mathematical functions\n",
    "* creating powerful data visualizations"
   ]
  },
  {
   "cell_type": "markdown",
   "metadata": {},
   "source": [
    "### Expressions"
   ]
  },
  {
   "cell_type": "markdown",
   "metadata": {},
   "source": [
    "How to evaluate basic expressions?\n",
    "\n",
    "To introduce the basic concepts in Python, we'll start by understanding how to evaluate basic expressions. We can write each expression on a separate line of text in a single file. We then ask the Python interpreter to evaluate the entire file and display any necessary output."
   ]
  },
  {
   "cell_type": "code",
   "execution_count": 1,
   "metadata": {
    "scrolled": true
   },
   "outputs": [
    {
     "name": "stdout",
     "output_type": "stream",
     "text": [
      "1288\n",
      "639\n",
      "1927\n"
     ]
    }
   ],
   "source": [
    "print(1288)\n",
    "print(639)\n",
    "print(1288 + 639)"
   ]
  },
  {
   "cell_type": "markdown",
   "metadata": {},
   "source": [
    "### Arithmetic Operators"
   ]
  },
  {
   "cell_type": "markdown",
   "metadata": {},
   "source": [
    "How can we write some basic arithmetic expressions?\n",
    "\n",
    "Python has multiple arithmetic operators that allow you to express calculations between values."
   ]
  },
  {
   "cell_type": "code",
   "execution_count": 1,
   "metadata": {
    "collapsed": true
   },
   "outputs": [
    {
     "name": "stdout",
     "output_type": "stream",
     "text": [
      "9\n",
      "3\n",
      "18\n",
      "2.0\n",
      "216\n",
      "4.0\n"
     ]
    }
   ],
   "source": [
    "print(6+3)\n",
    "print(6-3)\n",
    "print(6*3)\n",
    "print(6/3)\n",
    "print(6**3)\n",
    "print((6+6)/3)"
   ]
  },
  {
   "cell_type": "markdown",
   "metadata": {},
   "source": [
    "Python follows the order of operations rules:\n",
    "* Parentheses\n",
    "* Exponent\n",
    "* Multiplication or Division\n",
    "* Addition or Subtraction"
   ]
  },
  {
   "cell_type": "markdown",
   "metadata": {},
   "source": [
    "### Variables"
   ]
  },
  {
   "cell_type": "markdown",
   "metadata": {},
   "source": [
    "What is variable and how can we assign values to variables?\n",
    "\n",
    "Variables are nothing but reserved memory locations to store values. Creating a variable involves deciding on a name, entering that name, and then assigning a value to that variable. "
   ]
  },
  {
   "cell_type": "code",
   "execution_count": 5,
   "metadata": {
    "collapsed": true
   },
   "outputs": [
    {
     "name": "stdout",
     "output_type": "stream",
     "text": [
      "85\n",
      "34\n"
     ]
    }
   ],
   "source": [
    "weight = 85\n",
    "age = 34\n",
    "print(weight)\n",
    "print(age)"
   ]
  },
  {
   "cell_type": "markdown",
   "metadata": {},
   "source": [
    "### Data Types - Type Function"
   ]
  },
  {
   "cell_type": "markdown",
   "metadata": {},
   "source": [
    "What data types exist?\n",
    "\n",
    "The two most common numerical types in Python are integer and float and the most common non-numerical type is a string.We can look up the data type of a variable's value using the type() function."
   ]
  },
  {
   "cell_type": "code",
   "execution_count": 15,
   "metadata": {
    "collapsed": true
   },
   "outputs": [
    {
     "data": {
      "text/plain": [
       "str"
      ]
     },
     "execution_count": 15,
     "metadata": {},
     "output_type": "execute_result"
    }
   ],
   "source": [
    "x = \"weight\"\n",
    "x_int = 85\n",
    "x_float = 84.7\n",
    "type(x)"
   ]
  },
  {
   "cell_type": "markdown",
   "metadata": {},
   "source": [
    "### Creating Lists"
   ]
  },
  {
   "cell_type": "markdown",
   "metadata": {},
   "source": [
    "What is list and how we use it?\n",
    "\n",
    "List is an object that represents a sequence of values. It can store values of multiple types. As an example, we can represent the students' names of a class as a list as a sequence of strings (\"John\", \"George\", \"Nick\"). There are two ways to create lists:"
   ]
  },
  {
   "cell_type": "markdown",
   "metadata": {},
   "source": [
    "* Create an empty list and use the list.append() method"
   ]
  },
  {
   "cell_type": "code",
   "execution_count": 18,
   "metadata": {
    "collapsed": true
   },
   "outputs": [
    {
     "name": "stdout",
     "output_type": "stream",
     "text": [
      "['John', 'George', 'Nick']\n"
     ]
    }
   ],
   "source": [
    "students = []\n",
    "students.append(\"John\")\n",
    "students.append(\"George\")\n",
    "students.append(\"Nick\")\n",
    "print(students)"
   ]
  },
  {
   "cell_type": "markdown",
   "metadata": {},
   "source": [
    "* Create a list and populate values all in one line using the following syntax:"
   ]
  },
  {
   "cell_type": "code",
   "execution_count": 19,
   "metadata": {
    "collapsed": true
   },
   "outputs": [
    {
     "name": "stdout",
     "output_type": "stream",
     "text": [
      "['John', 'George', 'Nick']\n"
     ]
    }
   ],
   "source": [
    "students = [\"John\",\"George\",\"Nick\"]\n",
    "print(students)"
   ]
  },
  {
   "cell_type": "markdown",
   "metadata": {},
   "source": [
    "### Accessing Elements In A List and its Length"
   ]
  },
  {
   "cell_type": "markdown",
   "metadata": {},
   "source": [
    "How to access and work with the values in a list?\n",
    "\n",
    "The position that each value has in the list is called index. Every list starts at index 0 so if we want to access the first element in a list, we actually use the index value 0. Python's len() function returns the length of a list, or the number of elements in that list."
   ]
  },
  {
   "cell_type": "code",
   "execution_count": 4,
   "metadata": {},
   "outputs": [
    {
     "name": "stdout",
     "output_type": "stream",
     "text": [
      "John\n",
      "Nick\n"
     ]
    },
    {
     "data": {
      "text/plain": [
       "3"
      ]
     },
     "execution_count": 4,
     "metadata": {},
     "output_type": "execute_result"
    }
   ],
   "source": [
    "students = [\"John\",\"George\",\"Nick\"]\n",
    "first_value = students[0]\n",
    "third_value = students[2]\n",
    "print(first_value)\n",
    "print(third_value)\n",
    "len(students)"
   ]
  },
  {
   "cell_type": "markdown",
   "metadata": {},
   "source": [
    "### Slicing Lists"
   ]
  },
  {
   "cell_type": "markdown",
   "metadata": {},
   "source": [
    "What is a slice and how we use it?\n",
    "\n",
    "Lists have a feature called slicing that allows you to return all of the values between a starting index and an ending index. The slice is a new list containing just the values you're interested in. The value at the starting index and all of the values in between will be returned. The value at the ending index will not."
   ]
  },
  {
   "cell_type": "code",
   "execution_count": 6,
   "metadata": {
    "collapsed": true
   },
   "outputs": [
    {
     "name": "stdout",
     "output_type": "stream",
     "text": [
      "['John', 'George']\n"
     ]
    }
   ],
   "source": [
    "students = [\"John\",\"George\",\"Nick\"]\n",
    "first_two = students[0:2]\n",
    "print(first_two)"
   ]
  }
 ],
 "metadata": {
  "kernelspec": {
   "display_name": "Python 3",
   "language": "python",
   "name": "python3"
  },
  "language_info": {
   "codemirror_mode": {
    "name": "ipython",
    "version": 3
   },
   "file_extension": ".py",
   "mimetype": "text/x-python",
   "name": "python",
   "nbconvert_exporter": "python",
   "pygments_lexer": "ipython3",
   "version": "3.6.4"
  }
 },
 "nbformat": 4,
 "nbformat_minor": 2
}
