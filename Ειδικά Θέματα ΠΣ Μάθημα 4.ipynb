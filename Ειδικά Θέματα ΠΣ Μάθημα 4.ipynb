{
 "cells": [
  {
   "cell_type": "markdown",
   "metadata": {},
   "source": [
    "# List Operations"
   ]
  },
  {
   "cell_type": "markdown",
   "metadata": {},
   "source": [
    "In this mission, we will learn how to manipulate the data with lists. We load the data from previous lesson:"
   ]
  },
  {
   "cell_type": "code",
   "execution_count": 106,
   "metadata": {},
   "outputs": [],
   "source": [
    "f=open(\"C:\\\\Users\\\\kopas\\\\Desktop\\\\instacart_example.csv\",\"r\")\n",
    "data=f.read()\n",
    "rows = data.split('\\n')\n",
    "final_data = []\n",
    "for row in rows:\n",
    "    if row.strip():  # line isn't empty\n",
    "       split_list = row.split(',')\n",
    "       final_data.append(split_list)"
   ]
  },
  {
   "cell_type": "markdown",
   "metadata": {},
   "source": [
    "### Getting a Single Column From the Data"
   ]
  },
  {
   "cell_type": "markdown",
   "metadata": {},
   "source": [
    "In our dataset, we grouped the data by column. Each value in a column records similar information. Column 1 shows the name of the product, and column 2 shows the total orders of each product. Let's say that we need only one of the columns. How can we  extract this column?  "
   ]
  },
  {
   "cell_type": "code",
   "execution_count": 107,
   "metadata": {
    "collapsed": true
   },
   "outputs": [
    {
     "name": "stdout",
     "output_type": "stream",
     "text": [
      "['prod_orders', '472565', '379450', '264683', '241921', '213584', '176815', '152657', '142951', '140627', '137905', '137057', '113426', '109778', '104823', '100060', '97315', '89632', '87746', '85020', '84255', '82689', '80392', '79769', '76896', '76360', '75886', '75165', '73167', '72846', '72829', '72736', '71584', '71314', '69524', '69217', '68091', '67449', '67283', '66986', '64289', '61746', '60816', '60621', '59676', '58779', '57895', '57640', '57485', '56087', '55946', '55484', '55371', '55280', '54409', '52087', '51939', '50281', '50255', '50221', '50141', '49569', '49021', '48915', '47839', '46546', '45530', '45238', '43067', '43009', '42934', '42721', '42561', '42044', '41473', '40376', '40212', '40045', '39825', '39188', '38971', '38720', '38001', '37973', '37706', '37091', '36617', '36365', '36187', '35820', '35791', '35667', '35663', '35633', '35413', '34874', '34583', '34209', '33908', '32887', '32788', '32534', '32351', '32105', '31792', '31768', '31445', '31192', '30937', '30935', '30843', '30170', '30055', '29905', '29893', '29345', '29313', '29296', '29124', '29069', '28884', '28384', '27992', '27924', '27864', '27255', '27226', '26878', '26777', '26741', '26721', '26691', '26668', '26591', '26536', '26443', '26307', '26220', '26154', '25974', '25523', '25459', '24950', '24950', '24918', '24664', '24534', '24130', '24086', '23900', '23892', '23826', '23642', '23641', '23388', '23244', '23129', '23034', '23006', '22864', '22590', '22275', '21999', '21997', '21745', '21552', '21540', '21509', '21490', '21451', '21431', '21416', '21352', '21301', '21233', '20775', '20758', '20735', '20707', '20684', '20262', '20228', '20217', '20211', '20198', '20140', '20069', '20033', '19998', '19908', '19847', '19846', '19745', '19692', '19671', '19639', '19611', '19544', '19518', '19501', '19400', '19345', '19286', '19257', '19163', '18906', '18602', '18583', '18449', '18413', '18367', '18358', '18341', '18269', '18231', '18183', '18161', '18142', '18044', '18040', '18040', '17960', '17789', '17716', '17699', '17672', '17629', '17565', '17423', '17420', '17411', '17401', '17332', '17320', '17257', '17140', '17038', '16987', '16850', '16829', '16824', '16816', '16791', '16636', '16626', '16535', '16439', '16377', '16356', '16318', '16246', '16155', '16129', '15954', '15935', '15871', '15831', '15813', '15774', '15740', '15703', '15638', '15459', '15458', '15415', '15377', '15367', '15304', '15302', '15301', '15298', '15267', '15253', '15055', '15035', '14973', '14928', '14905', '14869', '14800', '14712', '14707', '14687', '14678', '14664', '14621', '14618', '14577', '14572', '14549', '14476', '14439', '14433', '14399', '14313', '14289', '14276', '14255', '14231', '14227', '14148', '14120', '14016', '13996', '13881', '13880', '13861', '13852', '13833', '13776', '13732', '13727', '13715', '13692', '13691', '13637', '13597', '13587', '13571', '13571', '13528', '13525', '13494', '13450', '13397', '13378', '13372', '13355', '13354', '13340', '13273', '13238', '13216', '13101', '13086', '13040', '13039', '13039', '13034', '12992', '12906', '12905', '12849', '12834', '12822', '12816', '12749', '12738', '12737', '12709', '12705', '12698', '12648', '12575', '12568', '12536', '12495', '12492', '12474', '12441', '12437', '12430', '12424', '12391', '12361', '12321', '12318', '12315', '12230', '12196', '12191', '12184', '12179', '12153', '12141', '12137', '12123', '12123', '12121', '12117', '12102', '12068', '12056', '12048', '11975', '11945', '11930', '11925', '11908', '11872', '11843', '11798', '11747', '11736', '11705', '11703', '11684', '11666', '11655', '11621', '11610', '11585', '11570', '11552', '11504', '11466', '11455', '11451', '11431', '11381', '11362', '11339', '11297', '11279', '11264', '11253', '11238', '11238', '11237', '11234', '11223', '11179', '11178', '11165', '11110', '11110', '11103', '11079', '11066', '11053', '11029', '10998', '10990', '10978', '10972', '10950', '10907', '10893', '10872', '10829', '10816', '10774', '10772', '10725', '10704', '10701', '10687', '10663', '10653', '10652', '10652', '10630', '10603', '10584', '10576', '10557', '10550', '10531', '10521', '10521', '10518', '10512', '10483', '10462', '10455', '10434', '10424', '10421', '10415', '10405', '10390', '10390', '10388', '10386', '10379', '10375', '10365', '10360', '10347', '10347', '10345', '10329', '10303', '10281', '10274', '10260', '10195', '10150', '10148', '10130', '10101', '10060', '10027', '9989', '9961', '9959', '9955', '9938', '9929', '9922', '9917', '9893', '9881', '9877', '9842', '9813', '9788', '9783', '9746', '9733', '9720', '9710', '9709', '9564', '9541', '9514', '9496', '9490', '9458', '9450', '9427', '9417', '9410', '9403', '9399', '9382', '9381', '9292', '9284', '9279', '9270', '9240', '9182', '9175', '9148', '9130', '9113', '9108', '9097', '9008', '8996', '8992', '8987', '8974', '8971', '8957', '8941', '8921', '8910', '8910', '8900', '8880', '8869', '8869', '8856', '8848', '8839', '8825', '8822', '8817', '8793', '8775', '8754', '8736', '8732', '8731', '8723', '8698', '8677', '8662', '8653', '8641', '8621', '8598', '8579', '8568', '8566', '8564', '8559', '8558', '8550', '8548', '8548', '8519', '8486', '8483', '8479', '8478', '8477', '8438', '8436', '8423', '8408', '8400', '8391', '8377', '8371', '8370', '8368', '8366', '8361', '8357', '8347', '8337', '8337', '8329', '8329', '8326', '8324', '8303', '8291', '8259', '8246', '8229', '8215', '8213', '8212', '8202', '8200', '8179', '8170', '8165', '8162', '8158', '8153', '8150', '8138', '8138', '8137', '8135', '8131', '8121', '8103', '8082', '8080', '8076', '8073', '8043', '8035', '8030', '8025', '8019', '8010', '7988', '7987', '7979', '7973', '7969', '7952', '7924', '7923', '7920', '7917', '7912', '7898', '7890', '7885', '7869', '7860', '7836', '7830', '7821', '7812', '7805', '7788', '7783', '7771', '7761', '7752', '7751', '7746', '7723', '7709', '7707', '7696', '7673', '7668', '7642', '7642', '7640', '7639', '7630', '7625', '7595', '7569', '7562', '7561', '7559', '7559', '7558', '7558', '7548', '7545', '7535', '7528', '7522', '7518', '7517', '7508', '7503', '7501', '7498', '7494', '7477', '7476', '7472', '7464', '7460', '7452', '7393', '7381', '7374', '7358', '7350', '7340', '7338', '7336', '7335', '7333', '7329', '7321', '7319', '7314', '7311', '7306', '7302', '7299', '7292', '7273', '7264', '7259', '7226', '7223', '7212', '7192', '7177', '7176', '7170', '7167', '7144', '7118', '7117', '7114', '7112', '7093', '7083', '7082', '7069', '7063', '7050', '7049', '7040', '7024', '7018', '7011', '7010', '7007', '7004', '6999', '6994', '6986', '6975', '6961', '6953', '6948', '6942', '6938', '6935', '6925', '6925', '6922', '6891', '6890', '6880', '6877', '6872', '6871', '6858', '6842', '6837', '6829', '6814', '6812', '6807', '6796', '6784', '6773', '6763', '6763', '6757', '6742', '6739', '6735', '6722', '6720', '6720', '6719', '6704', '6700', '6692', '6676', '6673', '6671', '6639', '6638', '6607', '6592', '6584', '6575', '6575', '6572', '6562', '6558', '6550', '6543', '6542', '6536', '6536', '6536', '6527', '6518', '6515', '6515', '6513', '6511', '6506', '6500', '6499', '6486', '6481', '6476', '6475', '6471', '6470', '6461', '6445', '6438', '6436', '6423', '6409', '6394', '6394', '6388', '6384', '6380', '6374', '6371', '6370', '6367', '6359', '6351', '6344', '6337', '6328', '6318', '6315', '6315', '6311', '6310', '6301', '6299', '6292', '6287', '6285', '6281', '6281', '6274', '6262', '6259', '6258', '6257', '6247', '6243', '6242', '6240', '6220', '6220', '6213', '6204', '6202', '6196', '6187', '6183', '6168', '6165', '6162', '6155', '6153', '6141', '6141', '6135', '6132', '6129', '6127', '6125', '6122', '6115', '6100', '6081', '6067', '6066', '6065', '6046', '6045', '6045', '6044', '6027', '6023', '6019', '6005', '6002', '5979', '5976', '5943', '5942', '5941', '5936', '5934', '5934', '5930', '5928', '5925', '5902', '5892', '5885', '5880', '5878', '5874', '5873', '5869', '5868', '5866', '5860', '5853', '5845', '5844', '5813', '5797', '5795', '5784', '5778', '5751', '5746', '5743', '5740', '5740', '5735', '5730', '5719', '5712', '5711', '5709', '5709', '5708', '5701', '5700', '5698', '5691', '5687', '5671', '5641', '5636', '5635', '5629', '5615', '5608', '5590', '5581', '5575', '5571', '5569', '5563', '5560', '5541', '5537', '5528', '5526', '5519', '5518', '5517', '5517', '5512', '5509', '5508', '5504', '5504', '5502', '5497', '5497', '5488', '5488', '5485', '5484', '5482', '5481', '5475', '5474', '5468', '5453', '5448', '5445']\n"
     ]
    }
   ],
   "source": [
    "products = []\n",
    "for item in final_data:\n",
    "    value = item[1]\n",
    "    products.append(value)\n",
    "print(products)"
   ]
  },
  {
   "cell_type": "markdown",
   "metadata": {},
   "source": [
    "### Counting the Items in a List and Removing the Header"
   ]
  },
  {
   "cell_type": "markdown",
   "metadata": {},
   "source": [
    "To verify that we selected the column properly, we can count the items in \"products\". We will need to remove the string \"prod_orders\" from the beginning of our list. If we don't do this, our count will include the header, which isn't part of the data set."
   ]
  },
  {
   "cell_type": "code",
   "execution_count": 111,
   "metadata": {
    "collapsed": true
   },
   "outputs": [
    {
     "name": "stdout",
     "output_type": "stream",
     "text": [
      "1000\n"
     ]
    }
   ],
   "source": [
    "new_products = products[1:1001]\n",
    "count = 0\n",
    "for x in new_products:\n",
    "    count = count + 1\n",
    "print(count)"
   ]
  },
  {
   "cell_type": "markdown",
   "metadata": {},
   "source": [
    "What else can we understand by the answer of the code we wrote previously?"
   ]
  },
  {
   "cell_type": "markdown",
   "metadata": {},
   "source": [
    "Answer: There are no products with the same total number of products. Our dataset has 1000 products and the \"count\" value is also 1000."
   ]
  },
  {
   "cell_type": "markdown",
   "metadata": {},
   "source": [
    "### The In Statement"
   ]
  },
  {
   "cell_type": "markdown",
   "metadata": {},
   "source": [
    "We now create the \"new_products_names\" selecting the other column of our dataset."
   ]
  },
  {
   "cell_type": "code",
   "execution_count": 115,
   "metadata": {
    "collapsed": true
   },
   "outputs": [
    {
     "name": "stdout",
     "output_type": "stream",
     "text": [
      "['Banana', 'Bag of Organic Bananas', 'Organic Strawberries', 'Organic Baby Spinach', 'Organic Hass Avocado', 'Organic Avocado', 'Large Lemon', 'Strawberries', 'Limes', 'Organic Whole Milk', 'Organic Raspberries', 'Organic Yellow Onion', 'Organic Garlic', 'Organic Zucchini', 'Organic Blueberries', 'Cucumber Kirby', 'Organic Fuji Apple', 'Organic Lemon', 'Apple Honeycrisp Organic', 'Organic Grape Tomatoes', 'Seedless Red Grapes', 'Organic Cucumber', 'Honeycrisp Apple', 'Organic Baby Carrots', 'Organic Half & Half', 'Sparkling Water Grapefruit', 'Organic Large Extra Fancy Fuji Apple', 'Yellow Onions', 'Organic Gala Apples', 'Organic Baby Arugula', 'Carrots', 'Fresh Cauliflower', 'Original Hummus', 'Organic Cilantro', 'Half & Half', 'Organic Small Bunch Celery', 'Michigan Organic Kale', 'Asparagus', 'Organic Red Onion', 'Organic Tomato Cluster', 'Organic Blackberries', '100% Whole Wheat Bread', 'Organic Italian Parsley Bunch', 'Organic Whole String Cheese', 'Organic Granny Smith Apple', 'Organic Unsweetened Almond Milk', 'Raspberries', 'Organic Red Bell Pepper', 'Spring Water', 'Blueberries', 'Green Bell Pepper', 'Organic Peeled Whole Baby Carrots', 'Red Peppers', 'Red Vine Tomato', 'Organic Ginger Root', 'Organic Garnet Sweet Potato (Yam)', 'Boneless Skinless Chicken Breasts', 'Extra Virgin Olive Oil', 'Hass Avocados', 'Organic Kiwi', 'Unsweetened Almondmilk', 'Small Hass Avocado', \"Organic D'Anjou Pears\", 'Organic Reduced Fat 2% Milk', 'Lime Sparkling Water', 'Bunched Cilantro', 'Grated Parmesan', 'Organic Lacinato (Dinosaur) Kale', 'Red Onion', 'Sparkling Natural Mineral Water', 'Organic Navel Orange', 'Jalapeno Peppers', 'Broccoli Crown', 'Uncured Genoa Salami', 'Large Alfresco Eggs', 'Roma Tomato', 'Organic Grade A Free Range Large Brown Eggs', 'Clementines Bag', 'Orange Bell Pepper', 'Grape White/Green Seedless', 'Organic Broccoli', 'Organic Black Beans', '100% Raw Coconut Water', 'Organic Bartlett Pear', '2% Reduced Fat Milk', 'Garlic', 'Shredded Parmesan', 'Granny Smith Apples', 'Organic Carrot Bunch', 'Soda', 'Unsalted Butter', 'Organic Reduced Fat Milk', 'Whole Milk', 'Bartlett Pears', 'Organic Romaine Lettuce', 'Unsweetened Original Almond Breeze Almond Milk', 'Organic Sticks Low Moisture Part Skim Mozzarella String Cheese', 'Pure Irish Butter', 'Organic Broccoli Florets', 'Sparkling Lemon Water', 'Organic Russet Potato', 'Feta Cheese Crumbles', 'Organic Large Brown Grade AA Cage Free Eggs', 'Organic Baby Broccoli', 'Organic Spring Mix', 'Organic Whole Strawberries', 'Whipped Cream Cheese', 'Italian Sparkling Mineral Water', 'Vanilla Almond Breeze Almond Milk', 'Clementines', 'Sharp Cheddar Cheese', 'Organic Garbanzo Beans', 'Frozen Organic Wild Blueberries', 'Total 2% with Strawberry Lowfat Greek Strained Yogurt', 'Fat Free Milk', 'Russet Potato', 'Organic Roma Tomato', 'Organic Extra Firm Tofu', 'Green Beans', 'Pure Sparkling Water', 'Organic Roasted Turkey Breast', 'Organic Milk', 'No Salt Added Black Beans', '100% Recycled Paper Towels', 'Organic Coconut Milk', 'Organic Red Radish Bunch', 'Total 0% Nonfat Greek Yogurt', 'Shredded Mild Cheddar Cheese', 'Honey Nut Cheerios', 'Ground Turkey Breast', 'Organic Sour Cream', 'Organic Basil', 'Organic Fat Free Milk', 'Green Onions', 'Total Greek Strained Yogurt', 'Unsweetened Vanilla Almond Milk', 'Red Raspberries', 'Total 0% Greek Yogurt', 'Romaine Hearts', 'Organic Large Grade AA Brown Eggs', 'Yellow Bell Pepper', 'Lightly Salted Baked Snap Pea Crisps', 'Pineapple Chunks', 'Original Orange Juice', 'Organic Heavy Whipping Cream', 'Watermelon Chunks', 'Fresh Ginger Root', 'Gala Apples', 'Cantaloupe', 'Organic Hothouse Cucumbers', 'Organic Celery Hearts', 'Organic Romaine', 'Organic White Onions', 'Organic Bell Pepper', 'Organic 2% Reduced Fat Milk', 'Baby Spinach', 'Total 2% All Natural Greek Strained Yogurt with Honey', 'Organic Bread with 21 Whole Grains', 'Blackberries', 'Boneless Skinless Chicken Breast', 'Brussels Sprouts', 'Shredded Mozzarella', 'Organic Diced Tomatoes', 'Organic Green Seedless Grapes', 'Cherubs Heavenly Salad Tomatoes', 'Sour Cream', 'Organic Unsalted Butter', 'Creamy Almond Butter', 'Large Grapefruit', 'Organic Bosc Pear', 'Organic Spring Mix Salad', 'Organic Green Cabbage', 'Organic Yellow Peaches', 'Peach Pear Flavored Sparkling Water', 'Uncured Hickory Smoked Sunday Bacon', 'Total 2% Lowfat Greek Strained Yogurt With Blueberry', 'Electrolyte Enhanced Water', 'Organic Raw Kombucha Gingerade', 'Heavy Whipping Cream', 'Organic Jalapeno Pepper', 'Organic Frozen Peas', 'Organic Yams', 'Organic Shredded Carrots', 'Milk Organic Vitamin D', 'Organic Old Fashioned Rolled Oats', 'Oven Roasted Turkey Breast', 'Creamy Peanut Butter', 'Marinara Sauce', 'Total 2% Lowfat Greek Strained Yogurt with Peach', 'Organic Butternut Squash', 'Unsalted Pure Irish Butter', 'Organic Mint', 'Lemonade', 'Organic Leek', 'Organic Baby Rainbow Carrots', 'YoKids Squeezers Organic Low-Fat Yogurt Strawberry', 'Organic Thyme', 'Natural Spring Water', 'Sweet Onion', 'Organic Egg Whites', 'Original No Pulp 100% Florida Orange Juice', 'Organic Large Green Asparagus', 'Icelandic Style Skyr Blueberry Non-fat Yogurt', 'Salted Butter', 'White Corn', 'Chicken & Maple Breakfast Sausage', 'Organic Banana', 'Organic Shredded Mozzarella', 'European Cucumber', 'Organic Mexican Blend Finely Shredded Cheese', 'Organic Baby Kale', 'Organic Broccoli Crowns', 'Fridge Pack Cola', 'Sustainably Soft Bath Tissue', 'Pure Coconut Water', 'Sparkling Mineral Water', 'Vanilla Skyr Nonfat Yogurt', 'Total 2% Greek Strained Yogurt with Cherry 5.3 oz', 'Organic American Cheese Singles', 'Organic Creamy Peanut Butter', 'Guacamole', 'Ezekiel 4:9 Bread Organic Sprouted Whole Grain', 'Organic Low Sodium Chicken Broth', 'Mango Chunks', 'Organic Baby Spinach Salad', 'Organic Tomato Paste', 'Hass Avocado', 'Organic Snipped Green Beans', 'Macaroni & Cheese', 'Sparkling Water Berry', 'Shallot', 'Roasted Turkey Breast', 'Reduced Fat 2% Milk', 'Globe Eggplant', 'Organic Beef Hot Dogs', 'Roasted Red Pepper Hummus', 'Orange Juice', 'Original Veggie Straws', 'Spinach', 'Organic Tomato Basil Pasta Sauce', 'Air Chilled Organic Boneless Skinless Chicken Breasts', 'Trilogy Kombucha Drink', 'Total 2% All Natural Plain Greek Yogurt', 'Sea Salt Pita Chips', 'Asparation/Broccolini/Baby Broccoli', 'Lemon Hummus', 'Non Fat Raspberry Yogurt', '2% Reduced Fat Organic Milk', 'Sourdough Bread', 'Total 2% Lowfat Plain Greek Yogurt', 'White Onion', 'Organic AppleApple', 'Organic Dill', 'Organic Unsweetened Vanilla Almond Milk', 'Distilled Water', 'Pretzel Crisps Original Deli Style Pretzel Crackers', 'Spaghetti', 'Sinfully Sweet Campari Tomatoes', 'XL Emerald White Seedless Grapes', 'Organic Grade A Large Brown Eggs', 'Basil Pesto', 'Organic Whole Grassmilk Milk', 'Frozen Broccoli Florets', 'Raisin Bran Cereal', 'Mini Original Babybel Cheese', 'Vine Ripe Tomatoes', 'Organic Ketchup', 'Organic Turkey Bacon', 'Large Yellow Flesh Nectarine', 'Super Greens Salad', 'Whole Milk Plain Yogurt', 'Strawberry Preserves', 'Organic Red Cabbage', 'Organic Salted Butter', 'Original Nooks & Crannies English Muffins', 'Grapefruit Sparkling Water', 'Corn Tortillas', 'Organic Lowfat 1% Milk', 'Sea Salt & Vinegar Potato Chips', 'Original Pure Creamy Almond Milk', 'Tilapia Filet', 'Organic Rainbow Carrots', 'Organic Medium Salsa', 'Mild Salsa', 'Total 2% All Natural Low Fat 2% Milkfat Greek Strained Yogurt', 'Bing Cherries', 'Natural Chicken & Sage Breakfast Sausage', 'Super Spinach! Baby Spinach Baby Bok Choy Sweet Baby Kale', 'Total 0% Nonfat Plain Greek Yogurt', 'Organic Iceberg Lettuce', 'Orange Sparkling Water', 'Organic Bunch Beets', 'Baby Cucumbers', 'Organic Cheese Frozen Pizza', 'Skim Milk', 'Organic Brown Rice', 'Organic Large Brown Eggs', '1% Lowfat Milk', 'Berry Medley', 'Chocolate Chip Cookies', 'Sugar Snap Peas', 'Organic Green Leaf Lettuce', 'Seedless Small Watermelon', 'Organic Large Grade A Brown Eggs', 'Honeycrisp Apples', 'Plain Greek Yogurt', 'Diced Tomatoes', 'Organic Red Delicious Apple', 'Organic Tortilla Chips', 'Organic Plain Whole Milk Yogurt', 'Natural Artesian Water', 'Gluten Free Whole Grain Bread', 'Organic Whole Grain Wheat English Muffins', 'Baked Aged White Cheddar Rice and Corn Puffs', 'Organic Spaghetti Squash', 'Organic Tomato Sauce', 'Organic Extra Large Grade AA Brown Eggs', 'Uncured Slow Cooked Ham', 'Seedless Cucumbers', 'Organic Whole Milk with DHA Omega-3', 'Black Beans', 'Water', 'Goat Cheese Crumbles', '2% Reduced Fat DHA Omega-3 Reduced Fat Milk', 'Flat Parsley Bunch', 'Organic Bunny Fruit Snacks Berry Patch', 'Packaged Grape Tomatoes', 'Light Brown Sugar', 'Organic Original Hommus', 'Chocolate Ice Cream', '0% Greek Strained Yogurt', 'Organic Extra Virgin Olive Oil', 'Organic Nectarine', 'Sea Salt Potato Chips', 'Organic Blue Corn Tortilla Chips', 'Tomato Ketchup', 'Celery Hearts', 'English Seedless Cucumber', 'Organic Chicken & Apple Sausage', 'Tomato Sauce', 'Almonds & Sea Salt in Dark Chocolate', 'Organic Free Range Chicken Broth', 'Organic Cripps Pink Apples', '100 Calorie  Per Bag Popcorn', 'Organic Whole Cashews', 'Toasted Coconut Almondmilk Blend', 'Organic Whole Kernel Sweet Corn No Salt Added', 'Organic Milk Reduced Fat 2% Milkfat', 'Potato Yukon Gold Organic', 'Organic Good Seed Bread', 'Iceberg Lettuce', 'Organic Whipped Naturally Buttery Spread', 'Apples', 'Organic Summer Strawberry Bunny Fruit Snacks', 'Ginger Ale', 'Organic Romaine Hearts', 'Organic Cauliflower', 'Whole Almonds', 'Grade A Large White Eggs', 'Green Seedless Grapes', 'Organic Thompson Seedless Raisins', 'Cage Free Brown Eggs-Large Grade A', 'Organic Sunday Bacon', 'I Heart Baby Kale', 'Sparkling Water', 'Italian Extra Virgin Olive Oil', 'Crackers Cheddar Bunnies Snack Packs', 'Organic Beef Uncured Hot Dogs', 'Classic Hummus', 'Colby Cheese Sticks', 'Cereal', 'YoKids Blueberry & Strawberry/Vanilla Yogurt', 'Total 0% Raspberry Yogurt', 'Kale Greens', 'Organic Butterhead (Boston Butter Bibb) Lettuce', '85% Lean Ground Beef', 'Yogurt Strained Low-Fat Coconut', 'Organic 1% Low Fat Milk', 'Vanilla Ice Cream', 'Cinnamon Rolls with Icing', 'Trail Mix', 'Organic Roasted Sliced Chicken Breast', 'Original Hot Sauce', 'Cream Cheese Spread', 'Hint Of Sea Salt Almond Nut Thins', 'Organic Fresh Basil', 'Organic Chopped Spinach', 'Natural Premium Coconut Water', 'Crushed Tomatoes', 'Organic Spinach Bunch', 'Kids Organic Chocolate Chip ZBars', 'Organic Uncured Sliced Black Forest Ham', 'Organic 21 Grain Thin Sliced Bread', 'Organic Honey Sweet Whole Wheat Bread', 'Organic Vegetable Broth', 'Oven Roasted Turkey', 'Organic Apple Juice', 'Large Brown Eggs', 'Organic Vanilla Almond Milk', 'Organic Strawberry Smoothie', 'Cola', 'Organic Small Curd Cottage Cheese', 'Organic Plain Greek Whole Milk Yogurt', 'Smartwater', 'Organic Red On the Vine Tomato', 'Vanilla Pure Almond Milk', 'Rainbow Bell Peppers', 'Organic Romaine Leaf', 'Roasted Pine Nut Hummus', 'Sweet Kale Salad Mix', 'Mild Cheddar Cheese Sticks', 'Organic Chicken Broth', 'Tomato Paste', 'Organic Dark Chocolate Peanut Butter Cups', 'Green Peas', 'Organic Strawberry Fruit Spread', 'Mandarin Oranges', 'Blackberry Cucumber Sparkling Water', 'Total 0% with Honey Nonfat Greek Strained Yogurt', 'Organic Yellow Squash', 'Original Whipped Cream Cheese', 'Pita Chips Simply Naked', 'Organic Whole Wheat Bread', 'Natural Artisan Water', 'Organic Chicken Strips', 'Organic Dijon Mustard', 'Green Tea With Ginseng and Honey', 'Marinara Pasta Sauce', 'Salted Tub of Butter', 'Organic Red Chard Greens', 'Purified Water', 'Original Semisoft Cheese', 'Aged White Cheddar Baked Rice & Corn Puffs Gluten Free Lunch Packs', 'Vanilla Unsweetened Almond Milk', 'Almond Breeze Original Almond Milk', 'Organic Macaroni Shells & Real Aged Cheddar', 'Baby Arugula', 'Kiwi', 'Organic Pinto Beans', 'Sliced Black Olives', 'Aluminum Foil', 'Coke Classic', 'Organic Baby Kale Mix', 'Organic Multigrain Waffles', 'Gluten Free Dark Chocolate Chunk Chewy with a Crunch Granola Bars', 'Organic Whipping Cream', 'Nonfat Icelandic Style Strawberry Yogurt', 'Organic Cream Cheese Bar', 'Medium Cheddar Cheese Block', 'Firm Tofu', 'Real Mayonnaise', 'Alpine Spring Water', 'Organic Frozen Mango Chunks', 'Lime', 'Cheddar Bunnies Snack Crackers', 'Boneless Skinless Chicken Thighs', 'Walnut Halves & Pieces', 'Mozzarella String Cheese', 'Organic Chicken Stock', 'Organic Orange Bell Pepper', 'Whole Wheat Bread', 'Pure & Natural Sour Cream', 'Naturals Chicken Nuggets', 'Collard Greens', 'Whole Milk Ricotta Cheese', 'Organic Boneless Skinless Chicken Breast', 'Blood Oranges', 'Red Potatoes', 'Large Greenhouse Tomato', 'Organic Rosemary', 'Orange Calcium & Vitamin D Pulp Free', 'Organic Italian Salad', 'Thin Crust Pepperoni Pizza', 'Authentic French Brioche Hamburger Buns', 'Organic Low Sodium Vegetable Broth', 'Cran Raspberry Sparkling Water', 'Organic Medjool Dates', 'Mint', 'Bunny-Luv Fresh Organic Carrots', 'Organic Sea Salt Roasted Seaweed Snacks', 'Vitamin D Organic Whole Milk', 'Organic No Salt Added Diced Tomatoes', 'Romaine Lettuce', 'Plain Bagels', 'Fresh CA Grown Eggs', 'Roasted Turkey', 'Dried Mango', 'Dha Omega 3 Reduced Fat 2% Milk', 'Reduced Fat Milk 100% Lactose Free', 'Fresh Mozzarella Ball', 'Organic Original Almond Milk', 'Chopped Walnuts', 'Raspberry Preserves', 'Strawberry Rhubarb Yoghurt', 'Medium Navel Orange', 'Mixed Fruit Fruit Snacks', 'Boomchickapop Sea Salt Popcorn', 'Organic Golden Delicious Apple', 'Organic Sliced Peaches', 'Cage Free Large White Eggs', 'Organic Quick Oats', 'Baby Seedless Cucumbers', 'Organic Mixed Vegetables', 'Organic  Whole Milk', 'Fat Free Strawberry Yogurt', 'Blueberry Yoghurt', 'Canola Oil', 'Smoked Turkey Breast Slices', 'Pulp Free Orange Juice', 'Organic Braeburn Apple', 'Apple Cider Vinegar', 'Extra Fancy Unsalted Mixed Nuts', 'Organic Extra Large Brown Eggs', 'ALMONDBREEZE UNSWEETENED', 'Reduced Fat Milk', 'Lemon Sparkling Water', 'Unrefined Virgin Coconut Oil', 'Butternut Squash', 'Organic Vanilla Extract', 'Honey Yoghurt', 'Organic Greek Whole Milk Blended Vanilla Bean Yogurt', 'Original Popcorn', 'Organic Orange Juice', 'Bicolor Sweet Corn', 'Organic Mango', 'Organic Red Potato', 'Organic Unbleached All-Purpose Flour', 'Organic Red Grapes', 'Gluten Free Chocolate Chip Cookies', 'Black Plum', 'Supergreens!', 'Red Seedless Grapes', 'Natural Free & Clear Dish Liquid', 'Kiwi Sandia Sparkling Water', 'Fat Free Skim Milk', 'Organic Distilled White Vinegar', 'Whole Organic Omega 3 Milk', 'Penne Rigate', 'Panko Bread Crumbs', 'Vitamin D Whole Milk', 'Taco Seasoning', 'French Vanilla Creamer', 'Curate Cherry Lime Sparkling Water', 'Cold Brew Coffee', 'Organic Simply Naked Pita Chips', 'Lemon Yogurt', 'Organic Large Grade AA Omega-3 Eggs', 'Vanilla Skyr Style Yogurt', 'Synergy Organic Kombucha Gingerberry', 'Plain Pre-Sliced Bagels', 'Eggo Homestyle Waffles', 'Organic Lemonade', 'Red Plums', 'White Peach', 'Coconut Water', 'Apple Cinnamon GoGo Squeez', 'No Pulp Calcium & Vitamin D Pure Orange Juice', 'Whole Strawberries', 'Organic Mayonnaise', 'Baby Food Stage 2 Blueberry Pear & Purple Carrot', 'Almond Nut & Rice Cracker Snacks', 'Red Leaf Lettuce', 'Parsley Italian (Flat) New England Grown', 'Milk Vitamin D', 'Low Fat 1% Milk', \"Crunchy Oats 'n Honey Granola Bars\", 'Grape Tomatoes', 'Gold Potato', 'Non Fat Acai & Mixed Berries Yogurt', 'Organic Homestyle Waffles', 'YoBaby Peach Pear Yogurt', '1% Low Fat Milk', 'Organic Long Grain White Rice', 'Dressing Jersey Sweet Onion Calorie Free', 'Grade A Large Eggs Cage Free Omega 3', 'Corn Chips', 'Gluten Free 7 Grain Bread', 'Chopped Spinach', 'Zero Calorie Cola', 'Organic Red Potatoes', 'All Natural Marinara Sauce', 'Air Chilled Breaded Chicken Breast Nuggets', 'Cane Sugar', 'Honey Greek Yogurt', 'Cheese Pizza Snacks', 'Organic Chicken Bone Broth', '100% Pure Pumpkin', 'Organic Lactose Free Whole Milk', 'Organic Low Fat Milk', 'Chicken Breast Tenders Breaded', 'Organic Sugar Snap Peas', 'Organic Raw Unfiltered Apple Cider Vinegar', 'Tommy/Kent/Keitt/Haden Mango', 'Pesto Tortellini  Bowls', 'Veggie Chips', 'Traditional Plain Greek Yogurt', 'Uncured Black Forest Ham', 'Raspberry Yoghurt', 'Organic Riced Cauliflower', 'Sliced White Mushrooms', 'Organic Lightly Salted Brown Rice Cakes', 'Roasted & Salted Almonds', 'Yobaby Organic Plain Yogurt', 'Provolone', 'Backyard Barbeque Potato Chips', 'Original Rice Pilaf Mix', 'Organic Shredded Mild Cheddar', 'Crunchy Almond Butter', 'Lowfat Vanilla Yogurt', 'Honeydew Melon', 'Red Mango', 'Sauvignon Blanc', 'Sweet Potatoes', 'Emmentaler Swiss Slices', 'Organic Wheat-Free & Gluten-Free Original Crackers', 'Naturals Savory Turkey Breakfast Sausage', 'Organic Blueberry Waffles', 'Macaroni Shells & White Cheddar Cheese', 'Garlic Hummus', 'Traditional Hummus', 'Organic Bagged Carrots', 'Natural Classic Pork Breakfast Sausage', 'Organic English Cucumber', 'Spaghetti  No 12', 'Crescent Rolls', 'Organic Green Onions', 'Organic Short Grain Brown Rice', 'Chocolate Chip Cookie Dough Ice Cream', 'Cauliflower Florets', 'Organic Sliced White Mushrooms', 'Apple Juice', 'Bunny Pasta with Yummy Cheese Macaroni & Cheese', 'Garlic & Fine Herbs Gournay Cheese', 'Dark Chocolate Pretzels with Sea Salt', 'Dairy Free Unsweetened Coconut Milk', 'Organic Cinnamon Crunch Cereal', 'Wild Berry Smoothie', 'Spinach Peas & Pear Stage 2 Baby Food', 'Yogurt Lowfat Strawberry', 'Juice Beverage Cold Pressed Kale Apple Ginger Romaine Spinach Cucumber Celery Parsley Lemon', 'Organic Lite Coconut Milk', 'Uncured Pepperoni', 'Squeeze Tomato Ketchup', 'Oats & Honey Gluten Free Granola', 'Organic Beans & Rice Cheddar Cheese Burrito', 'Unsweetened Coconut Milk Beverage', 'Spaghetti Pasta', 'Pure Baking Soda', 'Organic Stringles Mozzarella String Cheese', 'ZBar Organic Chocolate Brownie Energy Snack', 'Sweet Potato Tortilla Chips', 'Organic Chicken Thighs', 'Serrano Chile Peppers', 'YoBaby Blueberry Apple Yogurt', 'Organic Cannellini Beans', 'Organic Cottage Cheese', 'Sonoma Traditional Flour Tortillas 10 Count', 'Vanilla Almond Breeze', 'Organic Red Lentils', 'Cheerios Cereal', 'Raisins', 'Organic Sliced Crimini Mushrooms', 'Fancy Eggplant', 'White Cheddar Popcorn', 'Peach on the Bottom Nonfat Greek Yogurt', 'Icelandic Style Fat Free Plain Yogurt', 'Plain Mini Bagels', 'Mini Cucumbers', 'Dha Omega 3 Vitamin D Milk', 'Original Real Vegetable Chips', 'Everything Bagels', 'Organic Muenster Cheese Slices', 'Jalapeno Hummus', 'Grated Parmesan Cheese', 'Yukon Gold Potatoes 5lb Bag', 'Pink Lady (Cripps) Apple', 'Peanut Butter Chocolate Chip Fruit & Nut Food Bar', 'Root Beer', 'Premium Pure Cane Granulated Sugar', 'Strawberry on the Bottom Nonfat Greek Yogurt', '93% Ground Beef', 'Scoops! Tortilla Chips', 'Organic Edamame', 'Organic Lactose Free 1% Lowfat Milk', 'Lowfat Small Curd Cottage Cheese', 'Authentic French Brioche', 'Mini Seedless Cucumbers', 'Thick & Crispy Tortilla Chips', 'Milk Reduced Fat 2% Milkfat', 'Penne Pasta', 'Organic Hot House Tomato', 'Organic Penne Rigate', 'Yellow Grape Tomatoes', 'Club Soda', 'Purity Farms Ghee Clarified Butter', 'Passionfruit Sparkling Water', 'Organic White Cheddar Popcorn', 'Natural Sharp Cheddar Sliced Cheese', 'Butter', 'No Pulp Calcium & Vitamin D Pure Premium 100% Pure Orange Juice', 'Basil', 'Crispy Wheat Crackers', 'Organic Mango Chunks', 'Apple Pie Fruit & Nut Food Bar', 'Light Semisoft Cheese', 'Original Black Box Tablewater Cracker', 'Shells & Real Aged Cheddar Macaroni & Cheese', 'Cherrios Honey Nut', 'Celery Sticks', 'Goldfish Cheddar Baked Snack Crackers', 'Organic Purple Kale', 'Organic Mountain Forest Amber Honey', 'Pineapple', 'Multigrain Tortilla Chips', 'Plain Whole Milk Yogurt', 'Organic Free Range Low Sodium Chicken Broth', 'Original Rotisserie Chicken', 'Presliced Everything Bagels', 'Organic YoKids Very Berry Smoothies', 'Whole Grain Cheddar Baked Snack Crackers', 'Mediterranean Mint Gelato', 'Organic Smoked Turkey Breast', 'Broccoli Florettes', 'Organic Beef Broth', 'Thin & Light Tortilla Chips', 'Organic Green Lentils', 'Organic Rainbow Chard Vegetable', 'Organic YoKids Smoothie Strawberry Banana Lowfat Yogurt', '100% Recycled Bathroom Tissue', 'Low Fat Vanilla Yogurt', '100% Lactose Free Fat Free Milk', 'Mixed Berries Whole Milk Icelandic Style Skyr Yogurt', 'Organic Creamy Tomato Soup', 'Plantain Chips', 'California Sourdough Bread', 'Broccoli & Cheddar Bake Meal Bowl', 'Fat Free Blueberry Yogurt', 'Philadelphia Original Cream Cheese', 'Organic Cut Green Beans', 'Organic Baby Bella Mushrooms', 'Shredded Sharp Cheddar Cheese', 'Lactose Free 2% Reduced Fat Milk', 'Cucumber & Garlic  Tzatziki', 'Kidz All Natural Baked Chicken Nuggets', 'Gluten Free SpongeBob Spinach Littles', 'Seven Grain Crispy Tenders', 'Organic Mini Sandwich Crackers Peanut Butter', 'Super Soft Taco Flour Tortillas', 'Curate Melon Pomelo Sparking Water', 'Florida Orange Juice With Calcium & Vitamin D', 'Organic Dark Sweet Cherries', 'Sweet Onions', 'Organic & Raw Strawberry Serenity Kombucha', 'New Orleans Iced Coffee', 'Cheese Pizza', 'Enlightened Organic Raw Kombucha', 'White Sliced Mushrooms', 'Organic Crushed Fire Roasted Tomatoes', 'Crackers Harvest Whole Wheat', 'Arancita Rossa', 'Cream Cheese', 'Gourmet Tomato Medley', 'Sweet Baguette', 'Organic Whole Wheat Fusilli', 'Organic Kale Greens', '100% Natural Spring Water', 'Roasted Salted Cashews', 'Applewood Smoked Bacon', 'Shredded Hash Browns', 'Gluten Free Blueberry Waffles', 'Organic Greek Nonfat Yogurt With Mixed Berries', 'Unsalted Cultured Butter', 'Cola Soft Drink', 'Flaky Biscuits', 'Classic White Bread', 'Saltine Crackers', 'Cherry Pomegranate Greek Yogurt', 'Organic Apple Slices', 'Broccoli & Apple Stage 2 Baby Food', 'Popcorn', 'Organic Wheat Square Crackers', 'Organic Greek Plain Nonfat Yogurt', 'YoKids Squeeze! Organic Strawberry Flavor Yogurt', 'Large Grade AA Eggs', '90% Lean Ground Beef', 'Fusilli No. 34', 'Penne Rigate #41 Pasta', 'Liquid Egg Whites', 'Organic Whole Crimini Mushrooms', 'Hot Dog Buns', 'YoKids Strawberry Banana/Strawberry Yogurt', 'Garnet Sweet Potato (Yam)', 'Celery', 'Mache Rosettes French Salad Mix', 'Diet Coke', 'Ranch Dressing', 'Organic Green Beans', 'Margherita Pizza', 'Gluten Free Peanut Butter Dark Chocolate Chewy With a Crunch Granola Bars', 'Organic Jasmine Rice', 'Grilled Chicken Breast Strips', 'Sea Salt Caramel Gelato', 'Grilled Chicken Breast', 'Mini Babybel Light Semisoft Edam Cheeses', 'Gluten Free White Sandwich Bread', 'Select-A-Size White Paper Towels', 'Organic Raw Multigreen Kobmbucha', 'Strawberry Rhubarb Yogurt', 'White Corn Tortillas', 'Boneless Skinless Chicken Breast Fillets', 'Wheat Gluten Free Waffles', 'Mozzarella Cheese', 'Organic Cane Sugar', 'Monterey Jack Cheese', 'Ancient Grain Original Granola', 'Peanut Butter Cereal', 'Artichokes', 'Special Reserve Extra Sharp Cheddar Cheese', 'Whole Wheat English Muffins', 'Poblano Pepper', 'Organic Whole White Mushrooms', 'Jalapeno Potato Chips', 'Soft Pretzel Burger Buns', 'White Sandwich Bread', 'Grade AA Large White Eggs', 'Organic Berry Blend', 'Organic Chicken Noodle Soup', 'Unsweetened Almond Milk', 'Yellow Straightneck Squash', 'Original Beef Jerky', 'Organic Low Sodium Chicken Cooking Stock', 'Lemon Verbena Dish Soap', 'Classic Almond Butter', 'Energy Drink', 'Organic Chocolate Chip Chewy Granola Bars', 'Salt & Pepper Krinkle Chips', 'Organic Marinara Pasta Sauce', 'Frozen Organic Blueberries', 'Beef Franks', 'Ice Cream Sandwiches Vanilla', 'Ultra Soft Facial Tissues', 'Grade A Large Brown Eggs', 'Cinnamon Raisin Bread', 'Organic Rolled Oats', 'Blueberry on the Bottom Nonfat Greek Yogurt', 'Dried Sweetened Cranberries', 'Organic Shells And White Cheddar', 'Apple Sauce', 'Organic Yokids Lemonade/Blueberry Variety Pack Yogurt Squeezers Tubes', 'Cage Free Grade A Large Brown Eggs', 'Organic Tahini', 'Bread Country Buttermilk', 'Angel Hair Pasta', 'Organic Strawana Probugs Kefir', 'Blue Cheese Crumbles', 'Free & Clear Unscented Baby Wipes', 'Organic Greek Lowfat Yogurt With Strawberries', 'Organic Spaghetti Pasta', 'Sparkling Clementine Juice', 'Garlic Powder', 'Coconut Yoghurt', 'Pomegranate', 'Whole White Mushrooms', 'Half And Half Cream', 'Organic Whole Milk Strawberry Beet Berry Yogurt Pouch', 'Peach', 'Sweet Potato Yam', 'Peeled Garlic', 'Organic Sprouted English Muffin', 'Canned Aranciata Orange', 'Peanut Butter Creamy With Salt', 'Original Restaurant Style Tortilla Chips', 'Premium Unsweetened Iced Tea', 'Salted Sweet Cream Butter', 'Sour Cream & Onion Potato Chips', 'Freshly Squeezed Orange Juice', 'Tomatoes Whole Peeled', 'Garlic Couscous', 'Hazelnut Spread With Skim Milk & Cocoa', 'Organic String Cheese', 'Goo Berry Pie Probugs Kefir', 'Mild Diced Green Chiles', 'Diet Ginger Ale All Natural Soda', 'Bok Choy', 'Original Instant Oatmeal', 'Americone DreamΒ® Ice Cream', 'Chardonnay', 'Medium Salsa Roja', 'Frozen Organic Strawberries', 'Low Fat Strawberry Yogurt Tubes', 'Whole Grain Oat Cereal', 'Strawberry Ice Cream', 'Cauliflower', 'Yotoddler Organic Pear Spinach Mango Yogurt', 'Vanilla Blueberry Clusters With Flax Seeds Granola', 'Cabernet Sauvignon', 'Tortillas Corn Organic', 'Macaroni & Cheese Dinner Original Flavor', 'Organic Nonfat Greek Yogurt With Peaches', 'Four Cheese Thin Crust Pizza', 'Synergy Organic & Raw Cosmic Cranberry', 'Organic Yellow Mustard', 'Cream Top Smooth & Creamy Vanilla Yogurt', 'Bean & Cheese Burrito', 'Tuna Salad', 'Cold Brew Coffee Double Espresso with Almond Milk', 'Large Burrito Flour Tortillas', 'Sourdough Baguette', 'Soft Pretzel Mini Buns', 'Fresh Cut Golden Sweet Whole Kernel Corn', 'Roasted Garlic Hummus', 'Total 0% Blueberry Acai Greek Yogurt', 'Butterhead Lettuce', 'Goat Cheese Log', 'Lavender Hand Soap', 'Mineral Water', 'Low Fat Plain Yogurt', 'Tart Cherry Yoghurt', \"Major Dickason's Blend Ground Coffee Dark Roast\", 'Half BakedΒ® Ice Cream', 'Hummus Hope Original Recipe', 'Organic Broccoli Crown', 'Organic Vanilla Bean Ice Cream', 'Avocado Roll', 'Organic Stoneground Wheat Crackers', 'White Giant Paper Towel Rolls', 'Naked Green Machine Boosted Juice Smoothie', 'Classic Hummus Family Size', 'Fresh Asparagus', 'Ezekiel 4:9 Sprouted Grain Tortillas', 'Four Cheese Pasta Sauce', 'Cage Free  100% Liquid Egg Whites', 'Russet Potatoes', 'Honey Wheat Bread', 'Beer', 'Mild Italian Chicken Sausage', 'Organic Genoa Salami', '100% Grated Parmesan Cheese', 'Organic Air Chilled Whole Chicken', 'Broccoli Florets', 'Blueberry Muffin Bar', 'Coke Zero', 'Organic Super Fruit Punch Juice Drink', 'Lacinato Kale Og', 'Black Beans No Salt Added', 'Boneless And Skinless Chicken Breast', 'Chicken & Apple Breakfast Sausage', 'Almond Milk Strawberry Yogurt', 'Sweet Potato Fries with Sea Salt', 'Bosc Pear', 'Sparkling Natural Spring Water', 'Fig Newmans Fruit Filled Cookies', 'Red Grapefruit', 'Cold-Brew Black Coffee', 'Kids Sensible Foods Broccoli Littles', 'Organic Apple Juice Boxes', 'Ground Buffalo', 'Classic Soda', 'Baby Portabella Mushrooms', 'Iced Oatmeal Cookie Kid Z Bar', 'Original Puffins Cereal', 'Vitamin Water Zero Squeezed Lemonade', 'Organic Cherries', 'Apple Cinnamon Instant Oatmeal', 'Good Seed Organic Thin Sliced Bread', 'All Natural Virgin Lemonade', 'Stage 1 Apples Sweet Potatoes Pumpkin & Blueberries Organic Pureed Baby Food', 'Flax Plus Organic Pumpkin Flax Granola', 'Baby Spinach Salad', 'Ataulfo Mango', 'Organic Mixed Berry Yogurt & Fruit Snack', 'Frosted Mini-Wheats Original Cereal', 'Cherry Pie Fruit & Nut Bar', 'Gallon Freezer Bags', 'Light Sour Cream', 'Organic Fuji Apples', 'Organic Whole Wheat Penne Rigate', 'Organic Fresh Squeezed Orange Juice', 'French Vanilla Coconut Milk Creamer', 'Caramel Cookie Crunch Gelato', 'Organic Peeled & Cooked Beets', 'Original Multigrain Spoonfuls Cereal', 'Gogo Squeez Organic Apple Strawberry Applesauce on the Go', 'Honey & Maple Turkey Breast', 'Cultured Low Fat Buttermilk', 'Mint Chip', 'Original Enriched Rice Drink', 'All Natural Apricot Sparkling Water', 'Organic 85% Cacao Dark Chocolate Bar', 'Organic Whole Peeled Tomatoes', 'Large Pineapple Chunks', 'Chicken Pot Pie', 'Oregano', '100% Apple Juice', 'Vodka', 'Organic Coconut Water', 'Chicken Broth', 'Sliced Baby Bella Mushrooms', 'Organic Russet Potato Bag', 'Mandarins Bag']\n"
     ]
    }
   ],
   "source": [
    "products_names = []\n",
    "for item in final_data:\n",
    "    value = item[0]\n",
    "    products_names.append(value)\n",
    "new_products_names = products_names[1:1001]\n",
    "print(new_products_names)\n"
   ]
  },
  {
   "cell_type": "markdown",
   "metadata": {},
   "source": [
    "In Python, it's often very useful to check whether a certain element is present in a list. One way to perform this check is to use a for loop:"
   ]
  },
  {
   "cell_type": "code",
   "execution_count": 116,
   "metadata": {
    "collapsed": true
   },
   "outputs": [
    {
     "name": "stdout",
     "output_type": "stream",
     "text": [
      "Salad found\n"
     ]
    }
   ],
   "source": [
    "for x in new_products_names:\n",
    "    if x == \"Organic Spring Mix Salad\":\n",
    "        print(\"Salad found\")"
   ]
  },
  {
   "cell_type": "markdown",
   "metadata": {},
   "source": [
    "This is a lot of code for a common operation. Python has the <b>in statement</b>, which allows us to check whether a list contains a specific element much more quickly:"
   ]
  },
  {
   "cell_type": "code",
   "execution_count": 117,
   "metadata": {
    "collapsed": true
   },
   "outputs": [
    {
     "name": "stdout",
     "output_type": "stream",
     "text": [
      "Salad found\n"
     ]
    }
   ],
   "source": [
    "if \"Organic Spring Mix Salad\" in new_products_names:\n",
    "    print(\"Salad found\")"
   ]
  },
  {
   "cell_type": "markdown",
   "metadata": {},
   "source": [
    "Even more quickly, we can directly assign the result to a variable:"
   ]
  },
  {
   "cell_type": "code",
   "execution_count": 119,
   "metadata": {
    "collapsed": true
   },
   "outputs": [
    {
     "name": "stdout",
     "output_type": "stream",
     "text": [
      "True\n"
     ]
    }
   ],
   "source": [
    "salad_found = \"Organic Spring Mix Salad\" in new_products_names\n",
    "print(salad_found)"
   ]
  }
 ],
 "metadata": {
  "kernelspec": {
   "display_name": "Python 3",
   "language": "python",
   "name": "python3"
  },
  "language_info": {
   "codemirror_mode": {
    "name": "ipython",
    "version": 3
   },
   "file_extension": ".py",
   "mimetype": "text/x-python",
   "name": "python",
   "nbconvert_exporter": "python",
   "pygments_lexer": "ipython3",
   "version": "3.6.4"
  }
 },
 "nbformat": 4,
 "nbformat_minor": 2
}
