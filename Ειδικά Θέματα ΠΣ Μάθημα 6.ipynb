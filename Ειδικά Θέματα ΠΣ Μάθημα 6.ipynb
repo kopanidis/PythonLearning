{
 "cells": [
  {
   "cell_type": "markdown",
   "metadata": {},
   "source": [
    "# Functions"
   ]
  },
  {
   "cell_type": "markdown",
   "metadata": {},
   "source": [
    "In this mission we will learn what is function, how to write our own functions, and we will rractice using dictionaries in more complex functions."
   ]
  },
  {
   "cell_type": "markdown",
   "metadata": {},
   "source": [
    "### Introduction to Functions"
   ]
  },
  {
   "cell_type": "markdown",
   "metadata": {},
   "source": [
    "As always we load the dataset we will use for our example."
   ]
  },
  {
   "cell_type": "code",
   "execution_count": 6,
   "metadata": {},
   "outputs": [],
   "source": [
    "f=open(\"C:\\\\Users\\\\kopas\\\\Desktop\\\\instacart_example.csv\",\"r\")\n",
    "data=f.read()\n",
    "rows = data.split('\\n')\n",
    "final_data = []\n",
    "for row in rows:\n",
    "    if row.strip():  # line isn't empty\n",
    "       split_list = row.split(',')\n",
    "       final_data.append(split_list)"
   ]
  },
  {
   "cell_type": "markdown",
   "metadata": {},
   "source": [
    "You may realize that we parse this file again and again. We parse it in the same way and the process will not be different than parsing any other file. Instead of rewriting the same code twice, we use a method that allows us to reuse code, functions such as print(), type(), open(), etc. Now, we formally define functions."
   ]
  },
  {
   "cell_type": "markdown",
   "metadata": {},
   "source": [
    "As we have seen before, a function is a packaged body of code that we can reuse by calling with the relevant parameters. The parameters that a function takes are called the inputs of the function, and the result that it returns is called the output. All functions follow the same road map: They take in input(s), execute the code that they surround, and return an output."
   ]
  },
  {
   "cell_type": "markdown",
   "metadata": {},
   "source": [
    "Because functions are reusable, we can package all the parsing we just did into one function. Then, we can call the function whenever we need to parse a file instead of having to rewrite the necessary code every time.\n",
    "\n",
    "Other than reusability, there are 3 main advantages of using functions:\n",
    "\n",
    "* They allow us to use other people's code without the necessity to have a deep understanding of how it was written (e.g., we use the print() function without reading the code inside it). We call this <b>information hiding</b>.\n",
    "* They break down complex logic into smaller components or modules. Instead of writing very lengthy and complicated code, we can progress function by function. For example, if we were writing a larger piece of code, parser() as a function would be easier to manage rather than the code that executes the same behavior. This would make testing easier as well. We refer to this as <b>modularity</b>, which is especially important when working on teams. Modularity makes it easier for someone else to read, understand, use, and build upon our code.\n",
    "* They streamline our code and make it easier to maintain. Programmers reuse the same functions in multiple situations across a project. This means that they generalize the function as much as possible to maximize its usefulness. we call this process <b>abstraction</b>, which is an important part of reducing our code's complexity, especially for larger projects.\n",
    "\n",
    "Knowing the usefulness of functions, let's see how we can write our own functions."
   ]
  },
  {
   "cell_type": "markdown",
   "metadata": {},
   "source": [
    "###  Writing Our Own Functions (Workbook here)"
   ]
  },
  {
   "cell_type": "markdown",
   "metadata": {},
   "source": [
    "Up until now, we used built-in functions: functions that Python has defined for us. However, we can write our own functions too. The syntax for defining a function consists of 5 parts:\n",
    "* <b>def</b> keyword - For Python to interpret the following code as a function\n",
    "* Name - To refer to when we need to call the function later\n",
    "* Arguments - Input value(s) that the function takes in\n",
    "* Body - The code that the function executes\n",
    "* Return value - The value that the function returns to the user when the function terminates\n",
    "\n",
    "Let's see an example that returns the first element of a list:"
   ]
  },
  {
   "cell_type": "code",
   "execution_count": 12,
   "metadata": {},
   "outputs": [],
   "source": [
    "example_list=[\"blah\",\"bloh\"]\n",
    "def first_elt(input_lst):\n",
    "    first = input_lst[0]\n",
    "    return first"
   ]
  },
  {
   "cell_type": "markdown",
   "metadata": {},
   "source": [
    "We start the function definition with the keyword def. We give the function a name that explains its use, in this case: first_elt(). Then, we name the single argument that the function takes. Here, we name the argument input_lst, suggesting to the user that the function must take in a list as input. In the next line, we define the body of the function, which consists of only one line in our case. This is the actual code that will be executed when the function is called. Finally, we use the keyword \"return\" to signify the end of the function, and type the variable that we want returned to the user, in this case, first."
   ]
  },
  {
   "cell_type": "markdown",
   "metadata": {},
   "source": [
    "One thing to note is the <b>indentation</b> of the function. Realize that after the colon, we indent the remainder of the function by one tab, which is the equivalent of 4 space bar strokes. This is to clarify to Python what part of the code belongs to the function. \n",
    "\n",
    "One other thing to note is that first and input_lst are <b>temporary variables</b>, which means that they are only accessible inside the function. If you attempt to use first somewhere else in the code outside the function, you will get an error saying that first is undefined."
   ]
  },
  {
   "cell_type": "markdown",
   "metadata": {},
   "source": [
    "### Functions with Multiple Return Paths (Workbook here too)"
   ]
  },
  {
   "cell_type": "markdown",
   "metadata": {},
   "source": [
    "Even though we suggested \"return\" signifies the end of a function, a function can have multiple return statements. We can take advantage of this to add an if statement that returns a value if a certain criteria is met, and another value otherwise. Let's see the following example:"
   ]
  },
  {
   "cell_type": "code",
   "execution_count": 13,
   "metadata": {},
   "outputs": [],
   "source": [
    "def is_blah(input_lst):\n",
    "    if input_lst[0] == \"blah\":\n",
    "        return True\n",
    "    else:\n",
    "        return False"
   ]
  },
  {
   "cell_type": "markdown",
   "metadata": {},
   "source": [
    "### Functions with Multiple Arguments (Workbook here too)"
   ]
  },
  {
   "cell_type": "markdown",
   "metadata": {},
   "source": [
    "At the example above, we understand that the function works, but its use is quite narrow. If we wanted to check if the first value is another word instead, we would have to write a completely separate function. If we could write a function that takes in two inputs, namely, the list and the string to check for, we could eliminate the inefficiency of writing the same code twice."
   ]
  },
  {
   "cell_type": "code",
   "execution_count": 14,
   "metadata": {},
   "outputs": [],
   "source": [
    "def equals_str(input_lst,input_str):\n",
    "    if input_lst[0] == input_str:\n",
    "        return True\n",
    "    else:\n",
    "        return False"
   ]
  },
  {
   "cell_type": "markdown",
   "metadata": {},
   "source": [
    "How can we now write the example above? "
   ]
  },
  {
   "cell_type": "code",
   "execution_count": 23,
   "metadata": {
    "collapsed": true
   },
   "outputs": [
    {
     "data": {
      "text/plain": [
       "True"
      ]
     },
     "execution_count": 23,
     "metadata": {},
     "output_type": "execute_result"
    }
   ],
   "source": [
    "equals_str(example_list,\"blah\")"
   ]
  },
  {
   "cell_type": "markdown",
   "metadata": {},
   "source": [
    "Because there is more than one argument in this function, the order with which we call the arguments becomes important. What will be the result of the following example?"
   ]
  },
  {
   "cell_type": "code",
   "execution_count": 24,
   "metadata": {
    "collapsed": true
   },
   "outputs": [
    {
     "data": {
      "text/plain": [
       "False"
      ]
     },
     "execution_count": 24,
     "metadata": {},
     "output_type": "execute_result"
    }
   ],
   "source": [
    "equals_str(\"blah\",example_list)"
   ]
  },
  {
   "cell_type": "markdown",
   "metadata": {},
   "source": [
    "<b>Answer:</b>\n",
    "\n",
    "The result would not correct because the function expects to get the list first and the string second."
   ]
  },
  {
   "cell_type": "markdown",
   "metadata": {},
   "source": [
    "How can we override this trouble?"
   ]
  },
  {
   "cell_type": "markdown",
   "metadata": {},
   "source": [
    "<b>Answer:</b>\n",
    "\n",
    "We have to use <b>named arguments</b> instead of the default, <b>positional arguments</b>."
   ]
  },
  {
   "cell_type": "code",
   "execution_count": 26,
   "metadata": {
    "collapsed": true
   },
   "outputs": [
    {
     "data": {
      "text/plain": [
       "True"
      ]
     },
     "execution_count": 26,
     "metadata": {},
     "output_type": "execute_result"
    }
   ],
   "source": [
    "equals_str(input_str=\"blah\",input_lst=example_list)"
   ]
  },
  {
   "cell_type": "markdown",
   "metadata": {},
   "source": [
    "### Optional Arguments"
   ]
  },
  {
   "cell_type": "markdown",
   "metadata": {},
   "source": [
    "What is optional arguement?\n",
    "\n",
    "<b>Optional arguments</b> have default values that they take on unless a different value is provided by the user. Let's say, we would like to make a function to count the number of products exist in our dataset."
   ]
  },
  {
   "cell_type": "code",
   "execution_count": 29,
   "metadata": {
    "collapsed": true
   },
   "outputs": [
    {
     "name": "stdout",
     "output_type": "stream",
     "text": [
      "1001\n"
     ]
    }
   ],
   "source": [
    "def counter(input_lst):\n",
    "    num_elt = 0\n",
    "    for each in input_lst:\n",
    "        num_elt = num_elt + 1\n",
    "    return num_elt\n",
    "print(counter(final_data))"
   ]
  },
  {
   "cell_type": "markdown",
   "metadata": {},
   "source": [
    "We get a wrong answer because the first item in the list is also counted by the counter. However, we know that the first row of of the dataset is not an element of the data itself, but is a list of the attributes that defines that data."
   ]
  },
  {
   "cell_type": "markdown",
   "metadata": {},
   "source": [
    "In this case we can use an optional argument that has a default value that can be manipulated. The default value for an argument that determines whether or not there is a header row would be False, because most datasets do not have header rows. However, when we encounter a dataset like this one, we can call the counter by explicitly telling it that there is a header row. Let's modify the function to have this behavior by adding an optional parameter:"
   ]
  },
  {
   "cell_type": "code",
   "execution_count": 7,
   "metadata": {
    "collapsed": true
   },
   "outputs": [
    {
     "name": "stdout",
     "output_type": "stream",
     "text": [
      "1000\n"
     ]
    }
   ],
   "source": [
    "def counter(input_lst,header_row = False):\n",
    "    num_elt = 0\n",
    "    if header_row == True:\n",
    "        input_lst = input_lst[1:len(input_lst)]\n",
    "    for each in input_lst:\n",
    "        num_elt = num_elt + 1\n",
    "    return num_elt\n",
    "print(counter(final_data,True))"
   ]
  },
  {
   "cell_type": "markdown",
   "metadata": {},
   "source": [
    "### Calling a Function inside another Function"
   ]
  },
  {
   "cell_type": "markdown",
   "metadata": {},
   "source": [
    "One more feature of functions that we will use is the ability to call a function inside another function. The body of one function can include a call to another function. We can call built-in or user-created functions by making their return values equal to a variable in the outer function, so that we can use that variable in the function. Let's say we want to build a function <b>list_counter()</b> that will count the elements in multiple lists, and make a separate list holding these values. This is how we want the function to operate:"
   ]
  },
  {
   "cell_type": "code",
   "execution_count": 11,
   "metadata": {},
   "outputs": [],
   "source": [
    "lists = [[\"dog\",\"cat\",\"rabbit\"],[1,2,3,4],[True]]\n",
    "list_count = (list_counter(lists))"
   ]
  },
  {
   "cell_type": "markdown",
   "metadata": {},
   "source": [
    "List counter doesn't exist so we have to create it."
   ]
  },
  {
   "cell_type": "code",
   "execution_count": 12,
   "metadata": {},
   "outputs": [],
   "source": [
    "def list_counter(input_lst):\n",
    "    final_list = []\n",
    "    for each in input_lst:\n",
    "        num_elt = counter(each)\n",
    "        final_list.append(num_elt)\n",
    "    return final_list"
   ]
  },
  {
   "cell_type": "code",
   "execution_count": 13,
   "metadata": {
    "collapsed": true
   },
   "outputs": [
    {
     "name": "stdout",
     "output_type": "stream",
     "text": [
      "[3, 4, 1]\n"
     ]
    }
   ],
   "source": [
    "lists = [[\"dog\",\"cat\",\"rabbit\"],[1,2,3,4],[True]]\n",
    "list_count = (list_counter(lists))\n",
    "print(list_count)"
   ]
  }
 ],
 "metadata": {
  "kernelspec": {
   "display_name": "Python 3",
   "language": "python",
   "name": "python3"
  },
  "language_info": {
   "codemirror_mode": {
    "name": "ipython",
    "version": 3
   },
   "file_extension": ".py",
   "mimetype": "text/x-python",
   "name": "python",
   "nbconvert_exporter": "python",
   "pygments_lexer": "ipython3",
   "version": "3.6.4"
  }
 },
 "nbformat": 4,
 "nbformat_minor": 2
}
