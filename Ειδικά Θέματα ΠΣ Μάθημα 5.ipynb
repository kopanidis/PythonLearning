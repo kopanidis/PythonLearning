{
 "cells": [
  {
   "cell_type": "markdown",
   "metadata": {},
   "source": [
    "# Dictionaries (workbook here)"
   ]
  },
  {
   "cell_type": "markdown",
   "metadata": {},
   "source": [
    "In this mission we will learn about dictionaries and branching conditionals. We load the data from previous lesson:"
   ]
  },
  {
   "cell_type": "code",
   "execution_count": 2,
   "metadata": {},
   "outputs": [],
   "source": [
    "f=open(\"C:\\\\Users\\\\kopas\\\\Desktop\\\\instacart_example.csv\",\"r\")\n",
    "data=f.read()\n",
    "rows = data.split('\\n')\n",
    "final_data = []\n",
    "for row in rows:\n",
    "    if row.strip():  # line isn't empty\n",
    "       split_list = row.split(',')\n",
    "       final_data.append(split_list)"
   ]
  },
  {
   "cell_type": "markdown",
   "metadata": {},
   "source": [
    "### Definition "
   ]
  },
  {
   "cell_type": "markdown",
   "metadata": {},
   "source": [
    "Our dataset consists of the names of the products and their total orders. We can store these details in two lists as next. "
   ]
  },
  {
   "cell_type": "code",
   "execution_count": 3,
   "metadata": {},
   "outputs": [],
   "source": [
    "products_names = []\n",
    "for item in final_data:\n",
    "    value = item[0]\n",
    "    products_names.append(value)\n",
    "products_names = products_names[1:1001]\n",
    "\n",
    "products_orders = []\n",
    "for item in final_data:\n",
    "    value = item[1]\n",
    "    products_orders.append(value)\n",
    "products_orders = products_orders[1:1001]"
   ]
  },
  {
   "cell_type": "markdown",
   "metadata": {},
   "source": [
    "To figure out what are the total orders one specific product (e.x Organic Strawberries) did, we'd first have to write a loop to find the index corresponding to the element \"Organic Strawberries\" in the <b>products_names</b> list. We'd then have to find the value for that index in <b>products_orders</b>. Here's how we could do this:"
   ]
  },
  {
   "cell_type": "code",
   "execution_count": 15,
   "metadata": {
    "collapsed": true
   },
   "outputs": [
    {
     "name": "stdout",
     "output_type": "stream",
     "text": [
      "264683\n"
     ]
    }
   ],
   "source": [
    "indexes = []\n",
    "indexes.extend(range(0, 1000)) # We use the \"list.extend\" to extend the list by multiple values\n",
    "product = \"Organic Strawberries\"\n",
    "orders = 0\n",
    "for i in indexes:\n",
    "    if products_names[i] == product:\n",
    "        orders = products_orders[i]\n",
    "print(orders)"
   ]
  },
  {
   "cell_type": "markdown",
   "metadata": {},
   "source": [
    "This is a complex piece of code for a simple task. We just want to find the value associated with a name. To accomplish this in an easier way, we can use a dictionary. A dictionary is like a list in that it has indexes, but the indexes aren't necessarily sequential numbers. We can create our own indexes with values of any data type, including strings."
   ]
  },
  {
   "cell_type": "markdown",
   "metadata": {},
   "source": [
    "We create a new empty dictionary with curly braces. To add values to an existing dictionary, we specify the index to the left of the equals sign, and the value should be on the right side. We use square brackets to specify the index. We call the index and value <b>key/value pairs</b>. In this mission, however, we'll refer to the dictionary values on the right side of the equals sign as <b>elements</b>, just like the elements in a list. Let's see an example:"
   ]
  },
  {
   "cell_type": "code",
   "execution_count": 26,
   "metadata": {},
   "outputs": [
    {
     "name": "stdout",
     "output_type": "stream",
     "text": [
      "{'John': 70, 'George': 80, 'Nick': 85, 'Mary': 75}\n",
      "80\n"
     ]
    }
   ],
   "source": [
    "scores = {}\n",
    "scores[\"John\"] = 70\n",
    "scores[\"George\"] = 80\n",
    "scores[\"Nick\"] = 85\n",
    "scores[\"Mary\"] = 75\n",
    "print(scores)\n",
    "print(scores[\"George\"])"
   ]
  },
  {
   "cell_type": "markdown",
   "metadata": {},
   "source": [
    "There is another approach where we can create a dictionary and add elements to it in a single step:"
   ]
  },
  {
   "cell_type": "code",
   "execution_count": 25,
   "metadata": {},
   "outputs": [],
   "source": [
    "scores = {\n",
    "    \"John\": 70,\n",
    "    \"George\": 80,\n",
    "    \"Nick\": 85,\n",
    "    \"Mary\": 75\n",
    "    }"
   ]
  },
  {
   "cell_type": "markdown",
   "metadata": {},
   "source": [
    "### Modifying Dictionary Values"
   ]
  },
  {
   "cell_type": "markdown",
   "metadata": {},
   "source": [
    "We can modify the elements in a dictionary, just like we can with a list. For example, we can replace the element we've associated with a key."
   ]
  },
  {
   "cell_type": "code",
   "execution_count": 27,
   "metadata": {},
   "outputs": [],
   "source": [
    "scores[\"George\"] = 65"
   ]
  },
  {
   "cell_type": "markdown",
   "metadata": {},
   "source": [
    "We can also modify an existing element."
   ]
  },
  {
   "cell_type": "code",
   "execution_count": 29,
   "metadata": {},
   "outputs": [],
   "source": [
    "scores[\"George\"] = scores[\"George\"] + 5"
   ]
  },
  {
   "cell_type": "markdown",
   "metadata": {},
   "source": [
    "### The In Statement and Dictionaries"
   ]
  },
  {
   "cell_type": "markdown",
   "metadata": {},
   "source": [
    "At lists, we used the in statement to check whether an element occurred in a list. We can also use the in statement to check whether a key occurs in a dictionary."
   ]
  },
  {
   "cell_type": "code",
   "execution_count": 30,
   "metadata": {
    "collapsed": true
   },
   "outputs": [
    {
     "name": "stdout",
     "output_type": "stream",
     "text": [
      "True\n"
     ]
    }
   ],
   "source": [
    "George_found = \"George\" in scores\n",
    "print(George_found)"
   ]
  },
  {
   "cell_type": "markdown",
   "metadata": {},
   "source": [
    "### The Else Statement"
   ]
  },
  {
   "cell_type": "markdown",
   "metadata": {},
   "source": [
    "Performing different actions depending on whether a condition is true or false is a common scenario in programming. We learned about the if statement in a previous mission. The if statement runs a segment of code if a condition is True. What happens if the condition is false? The else statement help us for that. "
   ]
  },
  {
   "cell_type": "code",
   "execution_count": 41,
   "metadata": {
    "collapsed": true
   },
   "outputs": [
    {
     "name": "stdout",
     "output_type": "stream",
     "text": [
      "Very good\n"
     ]
    }
   ],
   "source": [
    "if scores[\"George\"] > 60:\n",
    "    print(\"Excellent\")\n",
    "else:\n",
    "    print(\"Very good\")"
   ]
  }
 ],
 "metadata": {
  "kernelspec": {
   "display_name": "Python 3",
   "language": "python",
   "name": "python3"
  },
  "language_info": {
   "codemirror_mode": {
    "name": "ipython",
    "version": 3
   },
   "file_extension": ".py",
   "mimetype": "text/x-python",
   "name": "python",
   "nbconvert_exporter": "python",
   "pygments_lexer": "ipython3",
   "version": "3.6.4"
  }
 },
 "nbformat": 4,
 "nbformat_minor": 2
}
